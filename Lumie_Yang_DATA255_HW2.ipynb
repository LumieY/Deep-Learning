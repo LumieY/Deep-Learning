{
  "nbformat": 4,
  "nbformat_minor": 0,
  "metadata": {
    "colab": {
      "provenance": []
    },
    "kernelspec": {
      "name": "python3",
      "display_name": "Python 3"
    },
    "language_info": {
      "name": "python"
    }
  },
  "cells": [
    {
      "cell_type": "code",
      "execution_count": 1,
      "metadata": {
        "id": "dVE-WLg-yQbn"
      },
      "outputs": [],
      "source": [
        "!pip install -U portalocker>=2.0.0"
      ]
    },
    {
      "cell_type": "code",
      "source": [
        "import torch\n",
        "import torch.nn as nn\n",
        "import torch.optim as optim\n",
        "import torchvision\n",
        "import torchvision.transforms as transforms\n",
        "from torch.utils.data import DataLoader\n",
        "import matplotlib.pyplot as plt"
      ],
      "metadata": {
        "id": "krYJmnLrzTGw"
      },
      "execution_count": 2,
      "outputs": []
    },
    {
      "cell_type": "code",
      "source": [
        "from torchvision import datasets"
      ],
      "metadata": {
        "id": "ZeyfY68oEDvP"
      },
      "execution_count": 3,
      "outputs": []
    },
    {
      "cell_type": "markdown",
      "source": [
        "# Load the QMINST dataset"
      ],
      "metadata": {
        "id": "eQN2ef1eEUEa"
      }
    },
    {
      "cell_type": "code",
      "source": [
        "# Define transformations\n",
        "transform = transforms.Compose([\n",
        "    transforms.ToTensor(),\n",
        "    transforms.Normalize((0.5,), (0.5,))\n",
        "])\n",
        "\n",
        "# Load QMNIST train and test datasets\n",
        "train_dataset = datasets.QMNIST(root='./data', what='train', download=True, transform=transform)\n",
        "test_dataset = datasets.QMNIST(root='./data', what='test', download=True, transform=transform)\n",
        "\n",
        "# Create data loaders\n",
        "train_loader = DataLoader(train_dataset, batch_size=64, shuffle=True)\n",
        "test_loader = DataLoader(test_dataset, batch_size=64, shuffle=False)"
      ],
      "metadata": {
        "colab": {
          "base_uri": "https://localhost:8080/"
        },
        "id": "uovgdSkrCpY3",
        "outputId": "646b76bb-78c4-4f2c-96c3-dba920bcbca9"
      },
      "execution_count": 4,
      "outputs": [
        {
          "output_type": "stream",
          "name": "stdout",
          "text": [
            "Downloading https://raw.githubusercontent.com/facebookresearch/qmnist/master/qmnist-train-images-idx3-ubyte.gz to ./data/QMNIST/raw/qmnist-train-images-idx3-ubyte.gz\n"
          ]
        },
        {
          "output_type": "stream",
          "name": "stderr",
          "text": [
            "100%|██████████| 9704059/9704059 [00:00<00:00, 104614865.66it/s]"
          ]
        },
        {
          "output_type": "stream",
          "name": "stdout",
          "text": [
            "Extracting ./data/QMNIST/raw/qmnist-train-images-idx3-ubyte.gz to ./data/QMNIST/raw\n"
          ]
        },
        {
          "output_type": "stream",
          "name": "stderr",
          "text": [
            "\n"
          ]
        },
        {
          "output_type": "stream",
          "name": "stdout",
          "text": [
            "Downloading https://raw.githubusercontent.com/facebookresearch/qmnist/master/qmnist-train-labels-idx2-int.gz to ./data/QMNIST/raw/qmnist-train-labels-idx2-int.gz\n"
          ]
        },
        {
          "output_type": "stream",
          "name": "stderr",
          "text": [
            "100%|██████████| 463024/463024 [00:00<00:00, 15099820.51it/s]"
          ]
        },
        {
          "output_type": "stream",
          "name": "stdout",
          "text": [
            "Extracting ./data/QMNIST/raw/qmnist-train-labels-idx2-int.gz to ./data/QMNIST/raw\n"
          ]
        },
        {
          "output_type": "stream",
          "name": "stderr",
          "text": [
            "\n"
          ]
        },
        {
          "output_type": "stream",
          "name": "stdout",
          "text": [
            "Downloading https://raw.githubusercontent.com/facebookresearch/qmnist/master/qmnist-test-images-idx3-ubyte.gz to ./data/QMNIST/raw/qmnist-test-images-idx3-ubyte.gz\n"
          ]
        },
        {
          "output_type": "stream",
          "name": "stderr",
          "text": [
            "100%|██████████| 9742279/9742279 [00:00<00:00, 54378583.67it/s]\n"
          ]
        },
        {
          "output_type": "stream",
          "name": "stdout",
          "text": [
            "Extracting ./data/QMNIST/raw/qmnist-test-images-idx3-ubyte.gz to ./data/QMNIST/raw\n",
            "Downloading https://raw.githubusercontent.com/facebookresearch/qmnist/master/qmnist-test-labels-idx2-int.gz to ./data/QMNIST/raw/qmnist-test-labels-idx2-int.gz\n"
          ]
        },
        {
          "output_type": "stream",
          "name": "stderr",
          "text": [
            "100%|██████████| 526800/526800 [00:00<00:00, 12865199.08it/s]"
          ]
        },
        {
          "output_type": "stream",
          "name": "stdout",
          "text": [
            "Extracting ./data/QMNIST/raw/qmnist-test-labels-idx2-int.gz to ./data/QMNIST/raw\n"
          ]
        },
        {
          "output_type": "stream",
          "name": "stderr",
          "text": [
            "\n"
          ]
        }
      ]
    },
    {
      "cell_type": "code",
      "source": [
        "labels_map = {\n",
        "    0: \"0\",\n",
        "    1: \"1\",\n",
        "    2: \"2\",\n",
        "    3: \"3\",\n",
        "    4: \"4\",\n",
        "    5: \"5\",\n",
        "    6: \"6\",\n",
        "    7: \"7\",\n",
        "    8: \"8\",\n",
        "    9: \"9\",\n",
        "}\n",
        "figure = plt.figure(figsize=(8, 8))\n",
        "cols, rows = 3, 3\n",
        "for i in range(1, cols * rows + 1):\n",
        "    sample_idx = torch.randint(len(train_dataset), size=(1,)).item()\n",
        "    img, label = train_dataset[sample_idx]\n",
        "    figure.add_subplot(rows, cols, i)\n",
        "    plt.title(labels_map[label])\n",
        "    plt.axis(\"off\")\n",
        "    plt.imshow(img.squeeze(), cmap=\"gray\")\n",
        "plt.show()"
      ],
      "metadata": {
        "colab": {
          "base_uri": "https://localhost:8080/",
          "height": 675
        },
        "id": "aH-dkAFhEvpI",
        "outputId": "848e83a4-f52a-43c8-bed3-92e7cfe36b60"
      },
      "execution_count": 5,
      "outputs": [
        {
          "output_type": "display_data",
          "data": {
            "text/plain": [
              "<Figure size 800x800 with 9 Axes>"
            ],
            "image/png": "[encoded data removed]"
          },
          "metadata": {}
        }
      ]
    },
    {
      "cell_type": "code",
      "source": [
        "#Test DataSet\n",
        "figure = plt.figure(figsize=(8, 8))\n",
        "cols, rows = 3, 3\n",
        "for i in range(1, cols * rows + 1):\n",
        "    sample_idx = torch.randint(len(test_dataset), size=(1,)).item()\n",
        "    img, label = test_dataset[sample_idx]\n",
        "    figure.add_subplot(rows, cols, i)\n",
        "    plt.title(labels_map[label])\n",
        "    plt.axis(\"off\")\n",
        "    plt.imshow(img.squeeze(), cmap=\"gray\")\n",
        "plt.show()"
      ],
      "metadata": {
        "colab": {
          "base_uri": "https://localhost:8080/",
          "height": 675
        },
        "id": "BJ4GJRSGFCbt",
        "outputId": "cc67c4b1-8859-44cf-89b1-4846b2d65ecb"
      },
      "execution_count": 6,
      "outputs": [
        {
          "output_type": "display_data",
          "data": {
            "text/plain": [
              "<Figure size 800x800 with 9 Axes>"
            ],
            "image/png": "[encoded data removed]"
          },
          "metadata": {}
        }
      ]
    },
    {
      "cell_type": "code",
      "source": [
        "class MLP(nn.Module):\n",
        "    def __init__(self):\n",
        "        super(MLP, self).__init__()\n",
        "        self.fc1 = nn.Linear(28 * 28, 128)\n",
        "        self.fc2 = nn.Linear(128, 64)\n",
        "        self.fc3 = nn.Linear(64, 10)  # QMNIST has 10 classes just like MNIST\n",
        "\n",
        "    def forward(self, x):\n",
        "        x = x.view(-1, 28 * 28)\n",
        "        x = torch.relu(self.fc1(x))\n",
        "        x = torch.relu(self.fc2(x))\n",
        "        return self.fc3(x)\n",
        "\n",
        "model = MLP()"
      ],
      "metadata": {
        "id": "4d-XSc86D2hj"
      },
      "execution_count": 7,
      "outputs": []
    },
    {
      "cell_type": "code",
      "source": [
        "criterion = nn.CrossEntropyLoss()\n",
        "optimizer = optim.Adam(model.parameters(), lr=0.001)"
      ],
      "metadata": {
        "id": "wbBqLtFpFH3A"
      },
      "execution_count": null,
      "outputs": []
    },
    {
      "cell_type": "code",
      "source": [
        "#Tain the model with 5 epochs\n",
        "num_epochs = 5\n",
        "\n",
        "for epoch in range(num_epochs):\n",
        "    model.train()\n",
        "    for images, labels in train_loader:\n",
        "        optimizer.zero_grad()\n",
        "        outputs = model(images)\n",
        "        loss = criterion(outputs, labels)\n",
        "        loss.backward()\n",
        "        optimizer.step()\n",
        "    print(f'Epoch [{epoch+1}/{num_epochs}], Loss: {loss.item():.4f}')\n"
      ],
      "metadata": {
        "colab": {
          "base_uri": "https://localhost:8080/"
        },
        "id": "3YOAUzojFLPL",
        "outputId": "2b6606cd-2ac8-4f68-f235-e6aeaaee0d19"
      },
      "execution_count": null,
      "outputs": [
        {
          "output_type": "stream",
          "name": "stdout",
          "text": [
            "Epoch [1/5], Loss: 0.5108\n",
            "Epoch [2/5], Loss: 0.0304\n",
            "Epoch [3/5], Loss: 0.2863\n",
            "Epoch [4/5], Loss: 0.0715\n",
            "Epoch [5/5], Loss: 0.1564\n"
          ]
        }
      ]
    },
    {
      "cell_type": "markdown",
      "source": [
        "#  Report on the results in terms of prediction accuracy on the train and test datasets"
      ],
      "metadata": {
        "id": "dPaCxhdKGPQ2"
      }
    },
    {
      "cell_type": "code",
      "source": [
        "#Evaluate the model on train data\n",
        "model.eval()\n",
        "correct = 0\n",
        "total = 0\n",
        "\n",
        "with torch.no_grad():\n",
        "    for images, labels in train_loader:\n",
        "        outputs = model(images)\n",
        "        _, predicted = torch.max(outputs.data, 1)\n",
        "        total += labels.size(0)\n",
        "        correct += (predicted == labels).sum().item()\n",
        "\n",
        "accuracy = 100 * correct / total\n",
        "print(f'Accuracy of the model on the QMNIST train images: {accuracy}%')"
      ],
      "metadata": {
        "colab": {
          "base_uri": "https://localhost:8080/"
        },
        "id": "CV6Q1FWZF80N",
        "outputId": "3fe58641-a9eb-460e-9900-bf4c3d448324"
      },
      "execution_count": null,
      "outputs": [
        {
          "output_type": "stream",
          "name": "stdout",
          "text": [
            "Accuracy of the model on the QMNIST train images: 97.44%\n"
          ]
        }
      ]
    },
    {
      "cell_type": "code",
      "source": [
        "#Evaluate the model on test data\n",
        "model.eval()\n",
        "correct = 0\n",
        "total = 0\n",
        "\n",
        "with torch.no_grad():\n",
        "    for images, labels in test_loader:\n",
        "        outputs = model(images)\n",
        "        _, predicted = torch.max(outputs.data, 1)\n",
        "        total += labels.size(0)\n",
        "        correct += (predicted == labels).sum().item()\n",
        "\n",
        "accuracy = 100 * correct / total\n",
        "print(f'Accuracy of the model on the QMNIST test images: {accuracy}%')\n"
      ],
      "metadata": {
        "colab": {
          "base_uri": "https://localhost:8080/"
        },
        "id": "VMlCJ9b4FRxL",
        "outputId": "3f1181c1-0c94-490f-dadc-d022658bcf62"
      },
      "execution_count": null,
      "outputs": [
        {
          "output_type": "stream",
          "name": "stdout",
          "text": [
            "Accuracy of the model on the QMNIST test images: 96.47833333333334%\n"
          ]
        }
      ]
    },
    {
      "cell_type": "markdown",
      "source": [
        "# Increase the current number of nodes in the layer to 256"
      ],
      "metadata": {
        "id": "KxMFUbsFGUQp"
      }
    },
    {
      "cell_type": "markdown",
      "source": [
        "#Hypothesize how it would change the performance results\n",
        "After increasing the nodes to 256, the model may have a higher accuracy on the train dataset and test dataset. However, the model may also have a problem with overfitting. If overfitting occurs, the accuracy of test data will drop."
      ],
      "metadata": {
        "id": "gluuuWtCGYG4"
      }
    },
    {
      "cell_type": "markdown",
      "source": [
        "# Modify the model based on the chosen method and train"
      ],
      "metadata": {
        "id": "EqaWp9cRG1Or"
      }
    },
    {
      "cell_type": "code",
      "source": [
        "class MLP(nn.Module):\n",
        "    def __init__(self):\n",
        "        super(MLP, self).__init__()\n",
        "        self.fc1 = nn.Linear(28 * 28, 256)\n",
        "        self.fc2 = nn.Linear(256, 64)\n",
        "        self.fc3 = nn.Linear(64, 10)  # QMNIST has 10 classes just like MNIST\n",
        "\n",
        "    def forward(self, x):\n",
        "        x = x.view(-1, 28 * 28)\n",
        "        x = torch.relu(self.fc1(x))\n",
        "        x = torch.relu(self.fc2(x))\n",
        "        return self.fc3(x)\n",
        "\n",
        "model2 = MLP()"
      ],
      "metadata": {
        "id": "db8T7_PTGVHq"
      },
      "execution_count": null,
      "outputs": []
    },
    {
      "cell_type": "code",
      "source": [
        "criterion = nn.CrossEntropyLoss()\n",
        "optimizer = optim.Adam(model2.parameters(), lr=0.001)\n",
        "#Tain the model with 10 epochs\n",
        "num_epochs = 10\n",
        "\n",
        "for epoch in range(num_epochs):\n",
        "    model2.train()\n",
        "    for images, labels in train_loader:\n",
        "        optimizer.zero_grad()\n",
        "        outputs = model2(images)\n",
        "        loss = criterion(outputs, labels)\n",
        "        loss.backward()\n",
        "        optimizer.step()\n",
        "    print(f'Epoch [{epoch+1}/{num_epochs}], Loss: {loss.item():.4f}')"
      ],
      "metadata": {
        "colab": {
          "base_uri": "https://localhost:8080/"
        },
        "id": "kbpoen1oHHu6",
        "outputId": "0129b3f0-0941-44cb-c11f-7767a24390a2"
      },
      "execution_count": null,
      "outputs": [
        {
          "output_type": "stream",
          "name": "stdout",
          "text": [
            "Epoch [1/10], Loss: 0.0129\n",
            "Epoch [2/10], Loss: 0.0202\n",
            "Epoch [3/10], Loss: 0.3471\n",
            "Epoch [4/10], Loss: 0.1917\n",
            "Epoch [5/10], Loss: 0.1739\n",
            "Epoch [6/10], Loss: 0.0156\n",
            "Epoch [7/10], Loss: 0.0008\n",
            "Epoch [8/10], Loss: 0.0115\n",
            "Epoch [9/10], Loss: 0.0048\n",
            "Epoch [10/10], Loss: 0.0016\n"
          ]
        }
      ]
    },
    {
      "cell_type": "markdown",
      "source": [
        "# Report on the results of the modified model and if it matches your hypothesis"
      ],
      "metadata": {
        "id": "BWBD79SPLxkC"
      }
    },
    {
      "cell_type": "code",
      "source": [
        "#Evaluate the model on train data\n",
        "model2.eval()\n",
        "correct = 0\n",
        "total = 0\n",
        "\n",
        "with torch.no_grad():\n",
        "    for images, labels in train_loader:\n",
        "        outputs = model2(images)\n",
        "        _, predicted = torch.max(outputs.data, 1)\n",
        "        total += labels.size(0)\n",
        "        correct += (predicted == labels).sum().item()\n",
        "\n",
        "accuracy = 100 * correct / total\n",
        "print(f'Accuracy of the model on the QMNIST train images: {accuracy}%')"
      ],
      "metadata": {
        "colab": {
          "base_uri": "https://localhost:8080/"
        },
        "id": "UXzgfbSmHQn6",
        "outputId": "31c8b40f-bf7a-4cd1-aa0b-ed043f64327c"
      },
      "execution_count": null,
      "outputs": [
        {
          "output_type": "stream",
          "name": "stdout",
          "text": [
            "Accuracy of the model on the QMNIST train images: 98.89333333333333%\n"
          ]
        }
      ]
    },
    {
      "cell_type": "code",
      "source": [
        "#Evaluate the model on test data\n",
        "model2.eval()\n",
        "correct = 0\n",
        "total = 0\n",
        "\n",
        "with torch.no_grad():\n",
        "    for images, labels in test_loader:\n",
        "        outputs = model2(images)\n",
        "        _, predicted = torch.max(outputs.data, 1)\n",
        "        total += labels.size(0)\n",
        "        correct += (predicted == labels).sum().item()\n",
        "\n",
        "accuracy = 100 * correct / total\n",
        "print(f'Accuracy of the model on the QMNIST test images: {accuracy}%')"
      ],
      "metadata": {
        "colab": {
          "base_uri": "https://localhost:8080/"
        },
        "id": "j5VkJpirH4mi",
        "outputId": "f0acc062-4699-4301-ef92-ac0cdaf632a4"
      },
      "execution_count": null,
      "outputs": [
        {
          "output_type": "stream",
          "name": "stdout",
          "text": [
            "Accuracy of the model on the QMNIST test images: 97.145%\n"
          ]
        }
      ]
    },
    {
      "cell_type": "markdown",
      "source": [
        "The accuracy of both train and test datasets increase which match my hypothesis."
      ],
      "metadata": {
        "id": "wkJC19StLzuw"
      }
    },
    {
      "cell_type": "markdown",
      "source": [
        "# Experiment with different optimizers, loss functions, dropout, and activation functions, and observe the change in performance as you tune these hyperparameters."
      ],
      "metadata": {
        "id": "XdHLYS-4MFsp"
      }
    },
    {
      "cell_type": "markdown",
      "source": [
        "# Change the optimizer to SGD"
      ],
      "metadata": {
        "id": "InFaxc-7MrWh"
      }
    },
    {
      "cell_type": "code",
      "source": [
        "class MLP(nn.Module):\n",
        "    def __init__(self):\n",
        "        super(MLP, self).__init__()\n",
        "        self.fc1 = nn.Linear(28 * 28, 256)\n",
        "        self.fc2 = nn.Linear(256, 64)\n",
        "        self.fc3 = nn.Linear(64, 10)  # QMNIST has 10 classes just like MNIST\n",
        "\n",
        "    def forward(self, x):\n",
        "        x = x.view(-1, 28 * 28)\n",
        "        x = torch.relu(self.fc1(x))\n",
        "        x = torch.relu(self.fc2(x))\n",
        "        return self.fc3(x)\n",
        "\n",
        "model2 = MLP()\n",
        "criterion = nn.CrossEntropyLoss()\n",
        "optimizer = optim.SGD(model2.parameters(), lr=0.001)\n",
        "#Tain the model with 5 epochs\n",
        "num_epochs = 5\n",
        "\n",
        "for epoch in range(num_epochs):\n",
        "    model2.train()\n",
        "    for images, labels in train_loader:\n",
        "        optimizer.zero_grad()\n",
        "        outputs = model2(images)\n",
        "        loss = criterion(outputs, labels)\n",
        "        loss.backward()\n",
        "        optimizer.step()\n",
        "    print(f'Epoch [{epoch+1}/{num_epochs}], Loss: {loss.item():.4f}')"
      ],
      "metadata": {
        "colab": {
          "base_uri": "https://localhost:8080/"
        },
        "id": "exgTqKQ3MKoB",
        "outputId": "d75bd4e6-5adf-4374-8b0d-4140c5c60471"
      },
      "execution_count": 8,
      "outputs": [
        {
          "output_type": "stream",
          "name": "stdout",
          "text": [
            "Epoch [1/5], Loss: 2.2178\n",
            "Epoch [2/5], Loss: 1.8506\n",
            "Epoch [3/5], Loss: 1.3397\n",
            "Epoch [4/5], Loss: 0.7753\n",
            "Epoch [5/5], Loss: 0.7755\n"
          ]
        }
      ]
    },
    {
      "cell_type": "code",
      "source": [
        "#Evaluate the model on test data\n",
        "model2.eval()\n",
        "correct = 0\n",
        "total = 0\n",
        "\n",
        "with torch.no_grad():\n",
        "    for images, labels in test_loader:\n",
        "        outputs = model2(images)\n",
        "        _, predicted = torch.max(outputs.data, 1)\n",
        "        total += labels.size(0)\n",
        "        correct += (predicted == labels).sum().item()\n",
        "\n",
        "accuracy = 100 * correct / total\n",
        "print(f'Accuracy of the model on the QMNIST test images: {accuracy}%')"
      ],
      "metadata": {
        "colab": {
          "base_uri": "https://localhost:8080/"
        },
        "id": "aCox-tGkNBci",
        "outputId": "a2ee47bb-644a-42af-b46b-ff63c4b47e22"
      },
      "execution_count": 9,
      "outputs": [
        {
          "output_type": "stream",
          "name": "stdout",
          "text": [
            "Accuracy of the model on the QMNIST test images: 82.42166666666667%\n"
          ]
        }
      ]
    },
    {
      "cell_type": "markdown",
      "source": [
        "# Change the loss function to Focal Loss"
      ],
      "metadata": {
        "id": "8NNBagjGNfys"
      }
    },
    {
      "cell_type": "code",
      "source": [
        "class FocalLoss(nn.Module):\n",
        "    def __init__(self, gamma=2.0, weight=None, reduction='mean'):\n",
        "        super(FocalLoss, self).__init__()\n",
        "        self.gamma = gamma\n",
        "        self.weight = weight  # class weights, optional\n",
        "        self.reduction = reduction\n",
        "        self.ce_loss = nn.CrossEntropyLoss(weight=weight, reduction='none')  # Use none to apply reduction manually\n",
        "\n",
        "    def forward(self, inputs, targets):\n",
        "        logp = self.ce_loss(inputs, targets)\n",
        "        p = torch.exp(-logp)\n",
        "        loss = (1 - p) ** self.gamma * logp  # The modulating factor (1-p)^gamma * CE_loss\n",
        "\n",
        "        if self.reduction == 'mean':\n",
        "            return loss.mean()\n",
        "        elif self.reduction == 'sum':\n",
        "            return loss.sum()\n",
        "        else:\n",
        "            return loss\n"
      ],
      "metadata": {
        "id": "Jndft_qcNt-f"
      },
      "execution_count": 11,
      "outputs": []
    },
    {
      "cell_type": "code",
      "source": [
        "model2 = MLP()\n",
        "criterion = FocalLoss(gamma=2.0)  # Experiment with different gamma values\n",
        "optimizer = optim.Adam(model2.parameters(), lr=0.001)\n",
        "\n",
        "num_epochs = 5\n",
        "\n",
        "for epoch in range(num_epochs):\n",
        "    model2.train()\n",
        "    running_loss = 0.0\n",
        "    for images, labels in train_loader:\n",
        "        optimizer.zero_grad()\n",
        "        outputs = model2(images)\n",
        "        loss = criterion(outputs, labels)\n",
        "        loss.backward()\n",
        "        optimizer.step()\n",
        "        running_loss += loss.item()\n",
        "    avg_loss = running_loss / len(train_loader)\n",
        "    print(f'Epoch [{epoch+1}/{num_epochs}], Loss: {avg_loss:.4f}')\n"
      ],
      "metadata": {
        "colab": {
          "base_uri": "https://localhost:8080/"
        },
        "id": "djErAn2-LHF8",
        "outputId": "6b637a17-6b92-4e34-8d1f-7e6751cf77c1"
      },
      "execution_count": 12,
      "outputs": [
        {
          "output_type": "stream",
          "name": "stdout",
          "text": [
            "Epoch [1/5], Loss: 0.1995\n",
            "Epoch [2/5], Loss: 0.0841\n",
            "Epoch [3/5], Loss: 0.0600\n",
            "Epoch [4/5], Loss: 0.0481\n",
            "Epoch [5/5], Loss: 0.0403\n"
          ]
        }
      ]
    },
    {
      "cell_type": "code",
      "source": [
        "#Evaluate the model on test data\n",
        "model2.eval()\n",
        "correct = 0\n",
        "total = 0\n",
        "\n",
        "with torch.no_grad():\n",
        "    for images, labels in test_loader:\n",
        "        outputs = model2(images)\n",
        "        _, predicted = torch.max(outputs.data, 1)\n",
        "        total += labels.size(0)\n",
        "        correct += (predicted == labels).sum().item()\n",
        "\n",
        "accuracy = 100 * correct / total\n",
        "print(f'Accuracy of the model on the QMNIST test images: {accuracy}%')"
      ],
      "metadata": {
        "colab": {
          "base_uri": "https://localhost:8080/"
        },
        "id": "PzrT_e3vLRel",
        "outputId": "f582d9db-00bf-4134-e055-c514c4fcf389"
      },
      "execution_count": 13,
      "outputs": [
        {
          "output_type": "stream",
          "name": "stdout",
          "text": [
            "Accuracy of the model on the QMNIST test images: 96.63333333333334%\n"
          ]
        }
      ]
    },
    {
      "cell_type": "markdown",
      "source": [
        "# With different Dropout"
      ],
      "metadata": {
        "id": "A93AZlj4Lmce"
      }
    },
    {
      "cell_type": "code",
      "source": [
        "class MLPWithDropout(nn.Module):\n",
        "    def __init__(self, dropout_rate=0.5):  # Default dropout rate set to 0.5\n",
        "        super(MLPWithDropout, self).__init__()\n",
        "        self.fc1 = nn.Linear(28 * 28, 256)\n",
        "        self.dropout1 = nn.Dropout(dropout_rate)\n",
        "        self.fc2 = nn.Linear(256, 64)\n",
        "        self.dropout2 = nn.Dropout(dropout_rate)\n",
        "        self.fc3 = nn.Linear(64, 10)\n",
        "\n",
        "    def forward(self, x):\n",
        "        x = x.view(-1, 28 * 28)\n",
        "        x = torch.relu(self.dropout1(self.fc1(x)))\n",
        "        x = torch.relu(self.dropout2(self.fc2(x)))\n",
        "        return self.fc3(x)\n"
      ],
      "metadata": {
        "id": "_GSCjzY_LpmM"
      },
      "execution_count": 14,
      "outputs": []
    },
    {
      "cell_type": "code",
      "source": [
        "def train(dataloader, model, criterion, optimizer):\n",
        "    model.train()  # Set the model to training mode\n",
        "    total_loss, total_correct, total = 0, 0, 0\n",
        "\n",
        "    for batch, (images, labels) in enumerate(dataloader):\n",
        "        optimizer.zero_grad()\n",
        "        outputs = model(images)\n",
        "        loss = criterion(outputs, labels)\n",
        "        loss.backward()\n",
        "        optimizer.step()\n",
        "\n",
        "        # Calculate statistics\n",
        "        total_loss += loss.item()\n",
        "        _, predicted = torch.max(outputs.data, 1)\n",
        "        total_correct += (predicted == labels).sum().item()\n",
        "        total += labels.size(0)\n",
        "\n",
        "    avg_loss = total_loss / len(dataloader)\n",
        "    accuracy = 100 * total_correct / total\n",
        "    print(f'Training - Loss: {avg_loss:.4f}, Accuracy: {accuracy:.2f}%')\n"
      ],
      "metadata": {
        "id": "DK1rwAD3Mlzm"
      },
      "execution_count": 18,
      "outputs": []
    },
    {
      "cell_type": "code",
      "source": [
        "dropout_rates = [0.0, 0.2, 0.3, 0.4, 0.5]\n",
        "for dropout_rate in dropout_rates:\n",
        "    print(f\"Training with dropout rate: {dropout_rate}\")\n",
        "    model = MLPWithDropout(dropout_rate=dropout_rate)\n",
        "    optimizer = optim.Adam(model.parameters(), lr=0.001)\n",
        "    criterion = nn.CrossEntropyLoss()\n",
        "\n",
        "\n",
        "    # Train the model\n",
        "    for epoch in range(num_epochs):\n",
        "        train(train_loader, model, criterion, optimizer)  # Train function to be adapted\n"
      ],
      "metadata": {
        "colab": {
          "base_uri": "https://localhost:8080/"
        },
        "id": "Yzs2dLnjMMIV",
        "outputId": "12447e6d-0d5e-4add-b66e-5e65b70a78ad"
      },
      "execution_count": 21,
      "outputs": [
        {
          "output_type": "stream",
          "name": "stdout",
          "text": [
            "Training with dropout rate: 0.0\n",
            "Training - Loss: 0.3717, Accuracy: 88.80%\n",
            "Training - Loss: 0.1691, Accuracy: 94.83%\n",
            "Training - Loss: 0.1238, Accuracy: 96.18%\n",
            "Training - Loss: 0.0973, Accuracy: 97.02%\n",
            "Training - Loss: 0.0828, Accuracy: 97.38%\n",
            "Training with dropout rate: 0.2\n",
            "Training - Loss: 0.4424, Accuracy: 86.35%\n",
            "Training - Loss: 0.2214, Accuracy: 93.22%\n",
            "Training - Loss: 0.1746, Accuracy: 94.65%\n",
            "Training - Loss: 0.1498, Accuracy: 95.46%\n",
            "Training - Loss: 0.1360, Accuracy: 95.83%\n",
            "Training with dropout rate: 0.3\n",
            "Training - Loss: 0.4983, Accuracy: 84.54%\n",
            "Training - Loss: 0.2633, Accuracy: 92.21%\n",
            "Training - Loss: 0.2170, Accuracy: 93.58%\n",
            "Training - Loss: 0.1901, Accuracy: 94.31%\n",
            "Training - Loss: 0.1748, Accuracy: 94.87%\n",
            "Training with dropout rate: 0.4\n",
            "Training - Loss: 0.5592, Accuracy: 82.70%\n",
            "Training - Loss: 0.3110, Accuracy: 90.83%\n",
            "Training - Loss: 0.2617, Accuracy: 92.42%\n",
            "Training - Loss: 0.2396, Accuracy: 92.95%\n",
            "Training - Loss: 0.2214, Accuracy: 93.60%\n",
            "Training with dropout rate: 0.5\n",
            "Training - Loss: 0.6863, Accuracy: 78.17%\n",
            "Training - Loss: 0.4151, Accuracy: 88.02%\n",
            "Training - Loss: 0.3594, Accuracy: 89.65%\n",
            "Training - Loss: 0.3205, Accuracy: 90.83%\n",
            "Training - Loss: 0.3077, Accuracy: 91.14%\n"
          ]
        }
      ]
    },
    {
      "cell_type": "markdown",
      "source": [
        "# With different activation fuctions"
      ],
      "metadata": {
        "id": "I3C1Smf5Nf3n"
      }
    },
    {
      "cell_type": "code",
      "source": [
        "class MLP(nn.Module):\n",
        "    def __init__(self):\n",
        "        super(MLP, self).__init__()\n",
        "        self.fc1 = nn.Linear(28 * 28, 256)\n",
        "        self.fc2 = nn.Linear(256, 64)\n",
        "        self.fc3 = nn.Linear(64, 10)\n",
        "\n",
        "    def forward(self, x):\n",
        "        x = x.view(-1, 28 * 28)\n",
        "        x = torch.sigmoid(self.fc1(x))\n",
        "        x = torch.sigmoid(self.fc2(x)) #Change the activation function to sigmoid\n",
        "        return self.fc3(x)\n",
        "\n",
        "model2 = MLP()\n",
        "criterion = nn.CrossEntropyLoss()\n",
        "optimizer = optim.Adam(model2.parameters(), lr=0.001)\n",
        "#Tain the model with 5 epochs\n",
        "num_epochs = 5\n",
        "\n",
        "for epoch in range(num_epochs):\n",
        "    model2.train()\n",
        "    for images, labels in train_loader:\n",
        "        optimizer.zero_grad()\n",
        "        outputs = model2(images)\n",
        "        loss = criterion(outputs, labels)\n",
        "        loss.backward()\n",
        "        optimizer.step()\n",
        "    print(f'Epoch [{epoch+1}/{num_epochs}], Loss: {loss.item():.4f}')"
      ],
      "metadata": {
        "colab": {
          "base_uri": "https://localhost:8080/"
        },
        "id": "xF-RViPxNrDl",
        "outputId": "6eaf32a2-4b06-404d-af37-138f493a60e1"
      },
      "execution_count": 22,
      "outputs": [
        {
          "output_type": "stream",
          "name": "stdout",
          "text": [
            "Epoch [1/5], Loss: 0.1394\n",
            "Epoch [2/5], Loss: 0.1859\n",
            "Epoch [3/5], Loss: 0.2029\n",
            "Epoch [4/5], Loss: 0.0809\n",
            "Epoch [5/5], Loss: 0.0387\n"
          ]
        }
      ]
    },
    {
      "cell_type": "code",
      "source": [
        "#Evaluate the model on test data\n",
        "model2.eval()\n",
        "correct = 0\n",
        "total = 0\n",
        "\n",
        "with torch.no_grad():\n",
        "    for images, labels in test_loader:\n",
        "        outputs = model2(images)\n",
        "        _, predicted = torch.max(outputs.data, 1)\n",
        "        total += labels.size(0)\n",
        "        correct += (predicted == labels).sum().item()\n",
        "\n",
        "accuracy = 100 * correct / total\n",
        "print(f'Accuracy of the model on the QMNIST test images: {accuracy}%')"
      ],
      "metadata": {
        "colab": {
          "base_uri": "https://localhost:8080/"
        },
        "id": "ORkk0iudN3rX",
        "outputId": "1280f4c6-96f5-44d1-ca84-5f6a63749dc2"
      },
      "execution_count": 23,
      "outputs": [
        {
          "output_type": "stream",
          "name": "stdout",
          "text": [
            "Accuracy of the model on the QMNIST test images: 96.90666666666667%\n"
          ]
        }
      ]
    }
  ]
}